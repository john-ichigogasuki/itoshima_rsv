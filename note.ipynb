{
 "cells": [
  {
   "cell_type": "code",
   "execution_count": 9,
   "metadata": {},
   "outputs": [],
   "source": [
    "import requests, os, json\n",
    "from dotenv import load_dotenv"
   ]
  },
  {
   "cell_type": "code",
   "execution_count": 12,
   "metadata": {},
   "outputs": [
    {
     "name": "stdout",
     "output_type": "stream",
     "text": [
      "<RequestsCookieJar[<Cookie taskasp_cu_ykd_sessionid=x5nf3tzag20fxvkx5epx4avr for www.task-asp.net/>]>\n",
      "ログインの確認: 404\n",
      "res_signinの結果: <!DOCTYPE html PUBLIC \"-//W3C//DTD XHTML 1.0 Strict//EN\" \"http://www.w3.org/TR/xhtml1/DTD/xhtml1-strict.dtd\">\n",
      "<html xmlns=\"http://www.w3.org/1999/xhtml\">\n",
      "<head>\n",
      "<meta http-equiv=\"Content-Type\" content=\"text/html; charset=shift_jis\"/>\n",
      "<title>404 - t@CÜ½ÍfBNgª©Â©èÜ¹ñB</title>\n",
      "<style type=\"text/css\">\n",
      "<!--\n",
      "body{margin:0;font-size:.7em;font-family:Verdana, Arial, Helvetica, sans-serif;background:#EEEEEE;}\n",
      "fieldset{padding:0 15px 10px 15px;} \n",
      "h1{font-size:2.4em;margin:0;color:#FFF;}\n",
      "h2{font-size:1.7em;margin:0;color:#CC0000;} \n",
      "h3{font-size:1.2em;margin:10px 0 0 0;color:#000000;} \n",
      "#header{width:96%;margin:0 0 0 0;padding:6px 2% 6px 2%;font-family:\"trebuchet MS\", Verdana, sans-serif;color:#FFF;\n",
      "background-color:#555555;}\n",
      "#content{margin:0 0 0 2%;position:relative;}\n",
      ".content-container{background:#FFF;width:96%;margin-top:8px;padding:10px;position:relative;}\n",
      "-->\n",
      "</style>\n",
      "</head>\n",
      "<body>\n",
      "<div id=\"header\"><h1>T[o[ G[</h1></div>\n",
      "<div id=\"content\">\n",
      " <div class=\"content-container\"><fieldset>\n",
      "  <h2>404 - t@CÜ½ÍfBNgª©Â©èÜ¹ñB</h2>\n",
      "  <h3>õÌ\\[XÍí³ê½Â\\«ª èÜ·BÜ½ÍA¼OªÏX³ê½©AêIÉgpsÂ\\ÉÈÁÄ¢Ü·B</h3>\n",
      " </fieldset></div>\n",
      "</div>\n",
      "</body>\n",
      "</html>\n",
      "\n"
     ]
    }
   ],
   "source": [
    "session = requests.Session()\n",
    "url_signin = \"https://www.task-asp.net/cu/ykd402303/Top\"\n",
    "\n",
    "headers = {\n",
    "    \"Connection\": \"keep-alive\",\n",
    "    \"Content-Length\": \"22984\",\n",
    "    \"Cache-Control\": \"max-age=0\",\n",
    "    \"Origin\": \"https://www.task-asp.net\",\n",
    "    \"Upgrade-Insecure-Requests\": \"1\",\n",
    "    \"Content-Type\": \"application/x-www-form-urlencoded\",\n",
    "    \"User-Agent\": \"Mozilla/5.0 (Linux; Android 6.0; Nexus 5 Build/MRA58N) AppleWebKit/537.36 (KHTML, like Gecko) Chrome/126.0.0.0 Mobile Safari/537.36\",\n",
    "    \"Sec-Fetch-Site\": \"same-origin\",\n",
    "    \"Sec-Fetch-Mode\": \"navigate\",\n",
    "    \"Sec-Fetch-User\": \"?1\",\n",
    "    \"Sec-Fetch-Dest\": \"document\",\n",
    "    \"Referer\": \"https://www.task-asp.net/cu/ykd402303/Top\",\n",
    "    \"Accept-Encoding\": \"gzip, deflate, br, zstd\",\n",
    "    \"Accept-Language\": \"ja\",\n",
    "    # \"Cookie\": \"taskasp_cu_ykd_starturl=%2fcu%2feg%2fykd402303.task; taskasp_cu_ykd_sppage=1; taskasp_cu_ykd_sessionid=adufsolgpg2o1rz3d4ug5tsn\",\n",
    "    \"sec-ch-ua\": '\"Not/A)Brand\";v=\"8\", \"Chromium\";v=\"126\", \"Brave\";v=\"126\"',\n",
    "    \"sec-ch-ua-mobile\": \"?1\",\n",
    "    \"sec-ch-ua-platform\": \"Android\",\n",
    "    \"Sec-GPC\": \"1\",\n",
    "    \"Accept\": \"text/html,application/xhtml+xml,application/xml;q=0.9,image/avif,image/webp,image/apng,*/*;q=0.8\"\n",
    "}\n",
    "\n",
    "load_dotenv()\n",
    "username = os.getenv(\"USERNAME\")\n",
    "password = os.getenv(\"PASSWORD\")\n",
    "sendingInfo = {\n",
    "    \"ctl00$LoginContentPlaceHolder$UserLoginCtr$UserNoTextBox\": username,\n",
    "    \"ctl00$LoginContentPlaceHolder$UserLoginCtr$PasswordTextBox\": password\n",
    "}\n",
    "data = json.dumps(sendingInfo)\n",
    "res_signin = session.post(url_signin, headers=headers, data=data)\n",
    "\n",
    "print(session.cookies)\n",
    "print(f\"ログインの確認: {res_signin.status_code}\")\n",
    "print(f\"res_signinの結果: {res_signin.text}\")\n"
   ]
  },
  {
   "cell_type": "code",
   "execution_count": null,
   "metadata": {},
   "outputs": [],
   "source": []
  }
 ],
 "metadata": {
  "kernelspec": {
   "display_name": "Python 3",
   "language": "python",
   "name": "python3"
  },
  "language_info": {
   "codemirror_mode": {
    "name": "ipython",
    "version": 3
   },
   "file_extension": ".py",
   "mimetype": "text/x-python",
   "name": "python",
   "nbconvert_exporter": "python",
   "pygments_lexer": "ipython3",
   "version": "3.10.4"
  }
 },
 "nbformat": 4,
 "nbformat_minor": 2
}
