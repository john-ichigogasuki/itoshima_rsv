{
 "cells": [
  {
   "cell_type": "code",
   "execution_count": 18,
   "metadata": {},
   "outputs": [
    {
     "name": "stdout",
     "output_type": "stream",
     "text": [
      "最初のログインResponse Headers:{'Cache-Control': 'private', 'Transfer-Encoding': 'chunked', 'Content-Type': 'text/html', 'Server': 'Microsoft-IIS/10.0', 'Set-Cookie': 'taskasp_cu_ykd_sessionid=wun3z4tq2yqzf5ftqwsdxzgx; path=/; HttpOnly; SameSite=Lax', 'Date': 'Thu, 18 Jul 2024 13:53:51 GMT'}\n",
      "最初のログイン返りテキスト: <!DOCTYPE html PUBLIC \"-//W3C//DTD XHTML 1.0 Strict//EN\" \"http://www.w3.org/TR/xhtml1/DTD/xhtml1-strict.dtd\">\n",
      "<html xmlns=\"http://www.w3.org/1999/xhtml\">\n",
      "<head>\n",
      "<meta http-equiv=\"Content-Type\" content=\"text/html; charset=shift_jis\"/>\n",
      "<title>404 - t@CÜ½ÍfBNgª©Â©èÜ¹ñB</title>\n",
      "<style type=\"text/css\">\n",
      "<!--\n",
      "body{margin:0;font-size:.7em;font-family:Verdana, Arial, Helvetica, sans-serif;background:#EEEEEE;}\n",
      "fieldset{padding:0 15px 10px 15px;} \n",
      "h1{font-size:2.4em;margin:0;color:#FFF;}\n",
      "h2{font-size:1.7em;margin:0;color:#CC0000;} \n",
      "h3{font-size:1.2em;margin:10px 0 0 0;color:#000000;} \n",
      "#header{width:96%;margin:0 0 0 0;padding:6px 2% 6px 2%;font-family:\"trebuchet MS\", Verdana, sans-serif;color:#FFF;\n",
      "background-color:#555555;}\n",
      "#content{margin:0 0 0 2%;position:relative;}\n",
      ".content-container{background:#FFF;width:96%;margin-top:8px;padding:10px;position:relative;}\n",
      "-->\n",
      "</style>\n",
      "</head>\n",
      "<body>\n",
      "<div id=\"header\"><h1>T[o[ G[</h1></div>\n",
      "<div id=\"content\">\n",
      " <div class=\"content-container\"><fieldset>\n",
      "  <h2>404 - t@CÜ½ÍfBNgª©Â©èÜ¹ñB</h2>\n",
      "  <h3>õÌ\\[XÍí³ê½Â\\«ª èÜ·BÜ½ÍA¼OªÏX³ê½©AêIÉgpsÂ\\ÉÈÁÄ¢Ü·B</h3>\n",
      " </fieldset></div>\n",
      "</div>\n",
      "</body>\n",
      "</html>\n",
      "\n",
      "ログインの確認: 200\n",
      "取得したCookie: {}\n",
      "postのresponse headers: {'Cache-Control': 'private', 'Content-Type': 'text/html; charset=utf-8', 'Content-Encoding': 'gzip', 'Vary': 'Accept-Encoding', 'Server': 'Microsoft-IIS/10.0', 'Date': 'Thu, 18 Jul 2024 13:56:25 GMT', 'Content-Length': '1666'}\n",
      "postの返りテキスト: \n",
      "\n",
      "<!DOCTYPE html>\n",
      "<html lang=\"ja\">\n",
      "<head id=\"Head1\"><meta charset=\"utf-8\" /><meta name=\"viewport\" content=\"width=device-width, initial-scale=1.0, minimum-scale=1.0, maximum-scale=1.0, user-scalable=no\" /><title>\n",
      "\tＴＡＳＫクラウド\n",
      "</title><link href=\"library/smartPhoneError.css\" rel=\"stylesheet\" /></head>\n",
      "<body>\n",
      "    <form method=\"post\" action=\"./SpTimeoutError.aspx?path=%2fcu%2feg%2fykd402303.task\" id=\"ExceptionForm\">\n",
      "<div class=\"aspNetHidden\">\n",
      "<input type=\"hidden\" name=\"__EVENTTARGET\" id=\"__EVENTTARGET\" value=\"\" />\n",
      "<input type=\"hidden\" name=\"__EVENTARGUMENT\" id=\"__EVENTARGUMENT\" value=\"\" />\n",
      "<input type=\"hidden\" name=\"__VIEWSTATE\" id=\"__VIEWSTATE\" value=\"/wEPDwUKLTQ5OTMyMTQyNA9kFgICAw9kFgICAQ8PFgIeD0NvbW1hbmRBcmd1bWVudAUVL2N1L2VnL3lrZDQwMjMwMy50YXNrZGRkzoqaJH+mVysWuTY+2VYYmD7nMFYavgyZuufrJFvVadM=\" />\n",
      "</div>\n",
      "\n",
      "<script type=\"text/javascript\">\n",
      "//<![CDATA[\n",
      "var theForm = document.forms['ExceptionForm'];\n",
      "if (!theForm) {\n",
      "    theForm = document.ExceptionForm;\n",
      "}\n",
      "function __doPostBack(eventTarget, eventArgument) {\n",
      "    if (!theForm.onsubmit || (theForm.onsubmit() != false)) {\n",
      "        theForm.__EVENTTARGET.value = eventTarget;\n",
      "        theForm.__EVENTARGUMENT.value = eventArgument;\n",
      "        theForm.submit();\n",
      "    }\n",
      "}\n",
      "//]]>\n",
      "</script>\n",
      "\n",
      "\n",
      "<div class=\"aspNetHidden\">\n",
      "\n",
      "\t<input type=\"hidden\" name=\"__VIEWSTATEGENERATOR\" id=\"__VIEWSTATEGENERATOR\" value=\"CFC2115D\" />\n",
      "\t<input type=\"hidden\" name=\"__EVENTVALIDATION\" id=\"__EVENTVALIDATION\" value=\"/wEdAAIF8ZSWOURB/mCF+w12F6KIO3oaSfzTemw2hg6mvFVF8tYSDqzHmJlS0w3HDoELh2WuNfuoXuV7CWl4efTeQ9Ku\" />\n",
      "</div>\n",
      "    <div id=\"ExceptionDialogFrame\" class=\"content_Base\">\n",
      "        <div id=\"ExceptionDialogSubstance\" class=\"dialog_Outer\">\n",
      "            <span id=\"ExceptionCaption\" class=\"dialog_Caption\">システムエラー</span>\n",
      "            <div id=\"ExceptionContentEntity\" class=\"content_Base\">\n",
      "                <div id=\"ExceptionConfirmTextarea\" class=\"dialog_Content\">\n",
      "                    <span id=\"ExceptionTitle\" class=\"dialog_Title\">処理を継続することができません</span>\n",
      "                    <br />\n",
      "                    <br />\n",
      "                    <span id=\"ExceptionMessage\">\n",
      "                        一定時間操作が行われなかったため、タイムアウトになりました。<br />\n",
      "                        大変お手数ですが、はじめから処理をやり直してください。\n",
      "                    </span>\n",
      "                    <br />\n",
      "                    <br />\n",
      "                    <a id=\"BackToButton\" class=\"dialog_Btn dialog_Btn_Corner dialog_Btn_Shadow\" href=\"javascript:__doPostBack(&#39;BackToButton&#39;,&#39;&#39;)\">はじめからやり直す</a>\n",
      "                </div>\n",
      "            </div>\n",
      "        </div>\n",
      "    </div>\n",
      "    </form>\n",
      "</body>\n",
      "</html>\n",
      "\n",
      "<!DOCTYPE html PUBLIC \"-//W3C//DTD XHTML 1.0 Strict//EN\" \"http://www.w3.org/TR/xhtml1/DTD/xhtml1-strict.dtd\">\n",
      "<html xmlns=\"http://www.w3.org/1999/xhtml\">\n",
      "<head>\n",
      "<meta http-equiv=\"Content-Type\" content=\"text/html; charset=shift_jis\"/>\n",
      "<title>404 - t@CÜ½ÍfBNgª©Â©èÜ¹ñB</title>\n",
      "<style type=\"text/css\">\n",
      "<!--\n",
      "body{margin:0;font-size:.7em;font-family:Verdana, Arial, Helvetica, sans-serif;background:#EEEEEE;}\n",
      "fieldset{padding:0 15px 10px 15px;} \n",
      "h1{font-size:2.4em;margin:0;color:#FFF;}\n",
      "h2{font-size:1.7em;margin:0;color:#CC0000;} \n",
      "h3{font-size:1.2em;margin:10px 0 0 0;color:#000000;} \n",
      "#header{width:96%;margin:0 0 0 0;padding:6px 2% 6px 2%;font-family:\"trebuchet MS\", Verdana, sans-serif;color:#FFF;\n",
      "background-color:#555555;}\n",
      "#content{margin:0 0 0 2%;position:relative;}\n",
      ".content-container{background:#FFF;width:96%;margin-top:8px;padding:10px;position:relative;}\n",
      "-->\n",
      "</style>\n",
      "</head>\n",
      "<body>\n",
      "<div id=\"header\"><h1>T[o[ G[</h1></div>\n",
      "<div id=\"content\">\n",
      " <div class=\"content-container\"><fieldset>\n",
      "  <h2>404 - t@CÜ½ÍfBNgª©Â©èÜ¹ñB</h2>\n",
      "  <h3>õÌ\\[XÍí³ê½Â\\«ª èÜ·BÜ½ÍA¼OªÏX³ê½©AêIÉgpsÂ\\ÉÈÁÄ¢Ü·B</h3>\n",
      " </fieldset></div>\n",
      "</div>\n",
      "</body>\n",
      "</html>\n",
      "\n"
     ]
    }
   ],
   "source": [
    "import requests, os, json\n",
    "from bs4 import BeautifulSoup\n",
    "from dotenv import load_dotenv\n",
    "\n",
    "load_dotenv()\n",
    "session = requests.Session()\n",
    "soup = BeautifulSoup(res.text, 'html.parser')\n",
    "\n",
    "url_signin = \"https://www.task-asp.net/cu/ykd402303/Top\"\n",
    "#sigin in に必要なCookieを取得するための挙動\n",
    "viewstate_element = soup.find('input', {'id': '__VIEWSTATE'})\n",
    "if viewstate_element is not None:\n",
    "  viewstate = viewstate_element['value']\n",
    "else:\n",
    "  viewstate = None\n",
    "viewstate_generator = soup.find('input', {'id': '__VIEWSTATEGENERATOR'})\n",
    "\n",
    "username = os.getenv(\"USERNAME\")\n",
    "password = os.getenv(\"PASSWORD\")\n",
    "login_data = {\n",
    "    \"ctl00$LoginContentPlaceHolder$UserLoginCtr$UserNoTextBox\": username,\n",
    "    \"ctl00$LoginContentPlaceHolder$UserLoginCtr$PasswordTextBox\": password,\n",
    "    \"__VIEWSTATE\": viewstate,\n",
    "    \"__VIEWSTATEGENERATOR\": viewstate_generator\n",
    "}\n",
    "headers = {\n",
    "  \"Accept\": \"text/html,application/xhtml+xml,application/xml;q=0.9,image/avif,image/webp,image/apng,*/*;q=0.8\",\n",
    "  \"Accept-Encoding\": \"gzip, deflate, br, zstd\",\n",
    "  \"Accept-Language\": \"ja;q=0.6\",\n",
    "  \"Cache-Control\": \"max-age=0\",\n",
    "  \"Connection\": \"keep-alive\",\n",
    "  \"Content-Length\": \"23044\",\n",
    "  \"Content-Type\": \"application/x-www-form-urlencoded\",\n",
    "  \"Cookie\": \"taskasp_cu_ykd_starturl=%2fcu%2feg%2fykd402303.task; taskasp_cu_ykd_sppage=1; taskasp_cu_ykd_sessionid=unbvi05kcik2qenhhj1lmo1k\",\n",
    "  \"Host\": \"www.task-asp.net\",\n",
    "  \"Origin\": \"https://www.task-asp.net\",\n",
    "  \"Referer\": \"https://www.task-asp.net/cu/ykd402303/Top\",\n",
    "  \"Sec-Ch-Ua\": \"\\\"Not/A)Brand\\\";v=\\\"8\\\", \\\"Chromium\\\";v=\\\"126\\\", \\\"Brave\\\";v=\\\"126\\\"\",\n",
    "  \"Sec-Ch-Ua-Mobile\": \"?0\",\n",
    "  \"Sec-Ch-Ua-Platform\": \"\\\"macOS\\\"\",\n",
    "  \"Sec-Fetch-Dest\": \"document\",\n",
    "  \"Sec-Fetch-Mode\": \"navigate\",\n",
    "  \"Sec-Fetch-Site\": \"same-origin\",\n",
    "  \"Sec-Fetch-User\": \"?1\",\n",
    "  \"Sec-Gpc\": \"1\",\n",
    "  \"Upgrade-Insecure-Requests\": \"1\",\n",
    "  \"User-Agent\": \"Mozilla/5.0 (Macintosh; Intel Mac OS X 10_15_7) AppleWebKit/537.36 (KHTML, like Gecko) Chrome/126.0.0.0 Safari/537.36\"\n",
    "}\n",
    "\n",
    "login_response = session.post(url_signin, data=login_data, headers=headers)\n",
    "print(f\"最初のログインResponse Headers:{res.headers}\")\n",
    "print(f\"最初のログイン返りテキスト: {res.text}\")\n",
    "\n",
    "print(\"ログインの確認:\", login_response.status_code)\n",
    "print(f\"取得したCookie: {session.cookies.get_dict()}\")\n",
    "print(f\"postのresponse headers: {login_response.headers}\")\n",
    "print(f\"postの返りテキスト: {login_response.text}\")\n",
    "\n",
    "print(res.text)\n"
   ]
  },
  {
   "cell_type": "code",
   "execution_count": 12,
   "metadata": {},
   "outputs": [
    {
     "name": "stdout",
     "output_type": "stream",
     "text": [
      "Collecting python-dotenv\n",
      "  Downloading python_dotenv-1.0.1-py3-none-any.whl.metadata (23 kB)\n",
      "Downloading python_dotenv-1.0.1-py3-none-any.whl (19 kB)\n",
      "Installing collected packages: python-dotenv\n",
      "Successfully installed python-dotenv-1.0.1\n"
     ]
    }
   ],
   "source": [
    "!pip install python-dotenv"
   ]
  },
  {
   "cell_type": "code",
   "execution_count": 44,
   "metadata": {},
   "outputs": [],
   "source": [
    "session.cookies.clear()"
   ]
  },
  {
   "cell_type": "code",
   "execution_count": 47,
   "metadata": {},
   "outputs": [
    {
     "data": {
      "text/plain": [
       "'gs2o3b55mhkujgj5g3mlifzj'"
      ]
     },
     "execution_count": 47,
     "metadata": {},
     "output_type": "execute_result"
    }
   ],
   "source": [
    "url_signin = \"https://www.task-asp.net/cu/ykd402303/Top\"\n",
    "test_res = session.get(url_signin)\n",
    "session.cookies.get_dict().get('taskasp_cu_ykd_sessionid')\n",
    "\n"
   ]
  },
  {
   "cell_type": "code",
   "execution_count": 10,
   "metadata": {},
   "outputs": [
    {
     "name": "stdout",
     "output_type": "stream",
     "text": [
      "<RequestsCookieJar[<Cookie taskasp_cu_ykd_sessionid=iefxneml53uiqfys1vtbleqe for www.task-asp.net/>]>\n"
     ]
    }
   ],
   "source": [
    "target_cookie = session.cookies.get_dict().get()"
   ]
  }
 ],
 "metadata": {
  "kernelspec": {
   "display_name": "venv",
   "language": "python",
   "name": "python3"
  },
  "language_info": {
   "codemirror_mode": {
    "name": "ipython",
    "version": 3
   },
   "file_extension": ".py",
   "mimetype": "text/x-python",
   "name": "python",
   "nbconvert_exporter": "python",
   "pygments_lexer": "ipython3",
   "version": "3.10.4"
  }
 },
 "nbformat": 4,
 "nbformat_minor": 2
}
